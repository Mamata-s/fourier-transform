{
 "cells": [
  {
   "cell_type": "code",
   "execution_count": 2,
   "id": "bd46210e",
   "metadata": {},
   "outputs": [],
   "source": [
    "import torch\n",
    "import torchvision\n",
    "from torchvision.datasets import MNIST"
   ]
  },
  {
   "cell_type": "code",
   "execution_count": 3,
   "id": "11858d3a",
   "metadata": {},
   "outputs": [
    {
     "name": "stdout",
     "output_type": "stream",
     "text": [
      "Downloading http://yann.lecun.com/exdb/mnist/train-images-idx3-ubyte.gz\n",
      "Downloading http://yann.lecun.com/exdb/mnist/train-images-idx3-ubyte.gz to data/MNIST/raw/train-images-idx3-ubyte.gz\n"
     ]
    },
    {
     "name": "stderr",
     "output_type": "stream",
     "text": [
      "31.0%IOPub message rate exceeded.\n",
      "The notebook server will temporarily stop sending output\n",
      "to the client in order to avoid crashing it.\n",
      "To change this limit, set the config variable\n",
      "`--NotebookApp.iopub_msg_rate_limit`.\n",
      "\n",
      "Current values:\n",
      "NotebookApp.iopub_msg_rate_limit=1000.0 (msgs/sec)\n",
      "NotebookApp.rate_limit_window=3.0 (secs)\n",
      "\n",
      "100.0%\n"
     ]
    },
    {
     "name": "stdout",
     "output_type": "stream",
     "text": [
      "Extracting data/MNIST/raw/train-images-idx3-ubyte.gz to data/MNIST/raw\n",
      "\n",
      "Downloading http://yann.lecun.com/exdb/mnist/train-labels-idx1-ubyte.gz\n"
     ]
    },
    {
     "name": "stderr",
     "output_type": "stream",
     "text": [
      "102.8%"
     ]
    },
    {
     "name": "stdout",
     "output_type": "stream",
     "text": [
      "Downloading http://yann.lecun.com/exdb/mnist/train-labels-idx1-ubyte.gz to data/MNIST/raw/train-labels-idx1-ubyte.gz\n",
      "Extracting data/MNIST/raw/train-labels-idx1-ubyte.gz to data/MNIST/raw\n",
      "\n",
      "Downloading http://yann.lecun.com/exdb/mnist/t10k-images-idx3-ubyte.gz\n",
      "Downloading http://yann.lecun.com/exdb/mnist/t10k-images-idx3-ubyte.gz to data/MNIST/raw/t10k-images-idx3-ubyte.gz\n"
     ]
    },
    {
     "name": "stderr",
     "output_type": "stream",
     "text": [
      "\n",
      "100.0%\n"
     ]
    },
    {
     "name": "stdout",
     "output_type": "stream",
     "text": [
      "Extracting data/MNIST/raw/t10k-images-idx3-ubyte.gz to data/MNIST/raw\n",
      "\n",
      "Downloading http://yann.lecun.com/exdb/mnist/t10k-labels-idx1-ubyte.gz\n",
      "Downloading http://yann.lecun.com/exdb/mnist/t10k-labels-idx1-ubyte.gz to data/MNIST/raw/t10k-labels-idx1-ubyte.gz\n"
     ]
    },
    {
     "name": "stderr",
     "output_type": "stream",
     "text": [
      "112.7%"
     ]
    },
    {
     "name": "stdout",
     "output_type": "stream",
     "text": [
      "Extracting data/MNIST/raw/t10k-labels-idx1-ubyte.gz to data/MNIST/raw\n",
      "\n"
     ]
    },
    {
     "name": "stderr",
     "output_type": "stream",
     "text": [
      "\n",
      "/Users/mamatashrestha/research_env/lib/python3.8/site-packages/torchvision/datasets/mnist.py:498: UserWarning: The given NumPy array is not writeable, and PyTorch does not support non-writeable tensors. This means you can write to the underlying (supposedly non-writeable) NumPy array using the tensor. You may want to copy the array to protect its data or make it writeable before converting it to a tensor. This type of warning will be suppressed for the rest of this program. (Triggered internally at  ../torch/csrc/utils/tensor_numpy.cpp:180.)\n",
      "  return torch.from_numpy(parsed.astype(m[2], copy=False)).view(*s)\n"
     ]
    }
   ],
   "source": [
    "dataset = MNIST (root = 'data/' , download = True)"
   ]
  },
  {
   "cell_type": "code",
   "execution_count": 4,
   "id": "16aa69ff",
   "metadata": {},
   "outputs": [
    {
     "data": {
      "text/plain": [
       "60000"
      ]
     },
     "execution_count": 4,
     "metadata": {},
     "output_type": "execute_result"
    }
   ],
   "source": [
    "len(dataset)"
   ]
  },
  {
   "cell_type": "code",
   "execution_count": 5,
   "id": "af60a498",
   "metadata": {},
   "outputs": [
    {
     "data": {
      "text/plain": [
       "10000"
      ]
     },
     "execution_count": 5,
     "metadata": {},
     "output_type": "execute_result"
    }
   ],
   "source": [
    "test_dataset = MNIST(root = 'data/' , train = False)\n",
    "len(test_dataset)"
   ]
  },
  {
   "cell_type": "code",
   "execution_count": 6,
   "id": "2236c686",
   "metadata": {},
   "outputs": [
    {
     "data": {
      "text/plain": [
       "(<PIL.Image.Image image mode=L size=28x28 at 0x1038F0D90>, 5)"
      ]
     },
     "execution_count": 6,
     "metadata": {},
     "output_type": "execute_result"
    }
   ],
   "source": [
    "dataset[0]"
   ]
  },
  {
   "cell_type": "code",
   "execution_count": 7,
   "id": "f656ce71",
   "metadata": {},
   "outputs": [],
   "source": [
    "import matplotlib.pyplot as plt\n",
    "%matplotlib inline"
   ]
  },
  {
   "cell_type": "code",
   "execution_count": 8,
   "id": "1eff4151",
   "metadata": {},
   "outputs": [
    {
     "name": "stdout",
     "output_type": "stream",
     "text": [
      "Label: 5\n"
     ]
    },
    {
     "data": {
      "image/png": "[encoded data removed]",
      "text/plain": [
       "<Figure size 432x288 with 1 Axes>"
      ]
     },
     "metadata": {
      "needs_background": "light"
     },
     "output_type": "display_data"
    }
   ],
   "source": [
    "image,label = dataset[0]\n",
    "plt.imshow(image, cmap = 'gray')\n",
    "print('Label:',label)"
   ]
  },
  {
   "cell_type": "code",
   "execution_count": 9,
   "id": "0764497d",
   "metadata": {},
   "outputs": [
    {
     "name": "stdout",
     "output_type": "stream",
     "text": [
      "Label:  8\n"
     ]
    },
    {
     "data": {
      "image/png": "[encoded data removed]",
      "text/plain": [
       "<Figure size 432x288 with 1 Axes>"
      ]
     },
     "metadata": {
      "needs_background": "light"
     },
     "output_type": "display_data"
    }
   ],
   "source": [
    "image, label = dataset[17]\n",
    "plt.imshow(image,cmap = 'gray')\n",
    "print('Label: ',label)"
   ]
  },
  {
   "cell_type": "code",
   "execution_count": 10,
   "id": "15cdc0fa",
   "metadata": {},
   "outputs": [],
   "source": [
    "import torchvision.transforms as transforms\n",
    "\n",
    "dataset = MNIST( root = 'data/',\n",
    "               train = True,\n",
    "               transform = transforms.ToTensor())"
   ]
  },
  {
   "cell_type": "code",
   "execution_count": 11,
   "id": "9e0bdc7f",
   "metadata": {},
   "outputs": [
    {
     "name": "stdout",
     "output_type": "stream",
     "text": [
      "torch.Size([1, 28, 28]) 5\n"
     ]
    }
   ],
   "source": [
    "img_tensor,label = dataset[0]\n",
    "print(img_tensor.shape,label)"
   ]
  },
  {
   "cell_type": "code",
   "execution_count": 15,
   "id": "769500f7",
   "metadata": {},
   "outputs": [
    {
     "data": {
      "text/plain": [
       "<matplotlib.image.AxesImage at 0x163b6a7f0>"
      ]
     },
     "execution_count": 15,
     "metadata": {},
     "output_type": "execute_result"
    },
    {
     "data": {
      "image/png": "[encoded data removed]",
      "text/plain": [
       "<Figure size 432x288 with 1 Axes>"
      ]
     },
     "metadata": {
      "needs_background": "light"
     },
     "output_type": "display_data"
    }
   ],
   "source": [
    "#plotting image\n",
    "plt.imshow(img_tensor[0,:,:], cmap='gray')"
   ]
  },
  {
   "cell_type": "code",
   "execution_count": 16,
   "id": "b0915b85",
   "metadata": {},
   "outputs": [
    {
     "data": {
      "text/plain": [
       "(50000, 10000)"
      ]
     },
     "execution_count": 16,
     "metadata": {},
     "output_type": "execute_result"
    }
   ],
   "source": [
    "#creating validation set\n",
    "\n",
    "from torch.utils.data import random_split\n",
    "\n",
    "train_ds, val_ds = random_split(dataset, [50000,10000])\n",
    "len(train_ds),len(val_ds)"
   ]
  },
  {
   "cell_type": "code",
   "execution_count": 17,
   "id": "4bade95e",
   "metadata": {},
   "outputs": [],
   "source": [
    "#using batch of data\n",
    "\n",
    "from torch.utils.data import DataLoader\n",
    "\n",
    "batch_size = 128\n",
    "\n",
    "train_loader = DataLoader(train_ds, batch_size, shuffle= True)\n",
    "val_loader = DataLoader (val_ds, batch_size)"
   ]
  },
  {
   "cell_type": "code",
   "execution_count": 18,
   "id": "40159e2d",
   "metadata": {},
   "outputs": [],
   "source": [
    "#model\n",
    "\n",
    "import torch.nn as nn\n",
    "\n",
    "input_size = 28*28\n",
    "num_classes = 10\n",
    "\n",
    "#Logistic Regression model\n",
    "model= nn.Linear(input_size, num_classes)"
   ]
  },
  {
   "cell_type": "code",
   "execution_count": 19,
   "id": "9c7be2cb",
   "metadata": {},
   "outputs": [
    {
     "name": "stdout",
     "output_type": "stream",
     "text": [
      "torch.Size([10, 784])\n"
     ]
    }
   ],
   "source": [
    "print(model.weight.shape)"
   ]
  },
  {
   "cell_type": "code",
   "execution_count": 20,
   "id": "febde38b",
   "metadata": {},
   "outputs": [
    {
     "name": "stdout",
     "output_type": "stream",
     "text": [
      "torch.Size([10])\n"
     ]
    }
   ],
   "source": [
    "print(model.bias.shape)"
   ]
  },
  {
   "cell_type": "code",
   "execution_count": 21,
   "id": "ace2396d",
   "metadata": {},
   "outputs": [
    {
     "name": "stdout",
     "output_type": "stream",
     "text": [
      "tensor([0, 6, 1, 3, 5, 7, 9, 0, 9, 3, 8, 6, 1, 2, 2, 7, 3, 9, 8, 7, 5, 8, 0, 2,\n",
      "        9, 4, 1, 9, 3, 4, 2, 9, 8, 4, 2, 4, 9, 2, 1, 3, 8, 0, 4, 5, 3, 9, 8, 4,\n",
      "        1, 7, 9, 7, 0, 1, 6, 6, 0, 1, 8, 4, 3, 9, 1, 1, 4, 1, 5, 3, 7, 5, 5, 4,\n",
      "        5, 0, 6, 4, 7, 0, 9, 6, 2, 5, 6, 7, 3, 3, 3, 7, 1, 2, 0, 2, 3, 8, 1, 7,\n",
      "        5, 1, 4, 7, 8, 2, 6, 9, 8, 0, 1, 7, 6, 6, 6, 3, 8, 6, 1, 7, 1, 6, 2, 4,\n",
      "        3, 0, 0, 6, 0, 7, 5, 9])\n",
      "torch.Size([128, 1, 28, 28])\n"
     ]
    },
    {
     "ename": "RuntimeError",
     "evalue": "mat1 and mat2 shapes cannot be multiplied (3584x28 and 784x10)",
     "output_type": "error",
     "traceback": [
      "\u001b[0;31m---------------------------------------------------------------------------\u001b[0m",
      "\u001b[0;31mRuntimeError\u001b[0m                              Traceback (most recent call last)",
      "\u001b[0;32m/var/folders/r0/vm3d6yq54b74bm6wwqrtxc9c0000gn/T/ipykernel_6217/3932449739.py\u001b[0m in \u001b[0;36m<module>\u001b[0;34m\u001b[0m\n\u001b[1;32m      3\u001b[0m     \u001b[0mprint\u001b[0m\u001b[0;34m(\u001b[0m\u001b[0mimages\u001b[0m\u001b[0;34m.\u001b[0m\u001b[0mshape\u001b[0m\u001b[0;34m)\u001b[0m\u001b[0;34m\u001b[0m\u001b[0;34m\u001b[0m\u001b[0m\n\u001b[1;32m      4\u001b[0m \u001b[0;34m\u001b[0m\u001b[0m\n\u001b[0;32m----> 5\u001b[0;31m     \u001b[0moutputs\u001b[0m \u001b[0;34m=\u001b[0m \u001b[0mmodel\u001b[0m\u001b[0;34m(\u001b[0m\u001b[0mimages\u001b[0m\u001b[0;34m)\u001b[0m\u001b[0;34m\u001b[0m\u001b[0;34m\u001b[0m\u001b[0m\n\u001b[0m\u001b[1;32m      6\u001b[0m     \u001b[0mprint\u001b[0m\u001b[0;34m(\u001b[0m\u001b[0moutputs\u001b[0m\u001b[0;34m)\u001b[0m\u001b[0;34m\u001b[0m\u001b[0;34m\u001b[0m\u001b[0m\n\u001b[1;32m      7\u001b[0m     \u001b[0;32mbreak\u001b[0m\u001b[0;34m\u001b[0m\u001b[0;34m\u001b[0m\u001b[0m\n",
      "\u001b[0;32m~/research_env/lib/python3.8/site-packages/torch/nn/modules/module.py\u001b[0m in \u001b[0;36m_call_impl\u001b[0;34m(self, *input, **kwargs)\u001b[0m\n\u001b[1;32m   1049\u001b[0m         if not (self._backward_hooks or self._forward_hooks or self._forward_pre_hooks or _global_backward_hooks\n\u001b[1;32m   1050\u001b[0m                 or _global_forward_hooks or _global_forward_pre_hooks):\n\u001b[0;32m-> 1051\u001b[0;31m             \u001b[0;32mreturn\u001b[0m \u001b[0mforward_call\u001b[0m\u001b[0;34m(\u001b[0m\u001b[0;34m*\u001b[0m\u001b[0minput\u001b[0m\u001b[0;34m,\u001b[0m \u001b[0;34m**\u001b[0m\u001b[0mkwargs\u001b[0m\u001b[0;34m)\u001b[0m\u001b[0;34m\u001b[0m\u001b[0;34m\u001b[0m\u001b[0m\n\u001b[0m\u001b[1;32m   1052\u001b[0m         \u001b[0;31m# Do not call functions when jit is used\u001b[0m\u001b[0;34m\u001b[0m\u001b[0;34m\u001b[0m\u001b[0;34m\u001b[0m\u001b[0m\n\u001b[1;32m   1053\u001b[0m         \u001b[0mfull_backward_hooks\u001b[0m\u001b[0;34m,\u001b[0m \u001b[0mnon_full_backward_hooks\u001b[0m \u001b[0;34m=\u001b[0m \u001b[0;34m[\u001b[0m\u001b[0;34m]\u001b[0m\u001b[0;34m,\u001b[0m \u001b[0;34m[\u001b[0m\u001b[0;34m]\u001b[0m\u001b[0;34m\u001b[0m\u001b[0;34m\u001b[0m\u001b[0m\n",
      "\u001b[0;32m~/research_env/lib/python3.8/site-packages/torch/nn/modules/linear.py\u001b[0m in \u001b[0;36mforward\u001b[0;34m(self, input)\u001b[0m\n\u001b[1;32m     94\u001b[0m \u001b[0;34m\u001b[0m\u001b[0m\n\u001b[1;32m     95\u001b[0m     \u001b[0;32mdef\u001b[0m \u001b[0mforward\u001b[0m\u001b[0;34m(\u001b[0m\u001b[0mself\u001b[0m\u001b[0;34m,\u001b[0m \u001b[0minput\u001b[0m\u001b[0;34m:\u001b[0m \u001b[0mTensor\u001b[0m\u001b[0;34m)\u001b[0m \u001b[0;34m->\u001b[0m \u001b[0mTensor\u001b[0m\u001b[0;34m:\u001b[0m\u001b[0;34m\u001b[0m\u001b[0;34m\u001b[0m\u001b[0m\n\u001b[0;32m---> 96\u001b[0;31m         \u001b[0;32mreturn\u001b[0m \u001b[0mF\u001b[0m\u001b[0;34m.\u001b[0m\u001b[0mlinear\u001b[0m\u001b[0;34m(\u001b[0m\u001b[0minput\u001b[0m\u001b[0;34m,\u001b[0m \u001b[0mself\u001b[0m\u001b[0;34m.\u001b[0m\u001b[0mweight\u001b[0m\u001b[0;34m,\u001b[0m \u001b[0mself\u001b[0m\u001b[0;34m.\u001b[0m\u001b[0mbias\u001b[0m\u001b[0;34m)\u001b[0m\u001b[0;34m\u001b[0m\u001b[0;34m\u001b[0m\u001b[0m\n\u001b[0m\u001b[1;32m     97\u001b[0m \u001b[0;34m\u001b[0m\u001b[0m\n\u001b[1;32m     98\u001b[0m     \u001b[0;32mdef\u001b[0m \u001b[0mextra_repr\u001b[0m\u001b[0;34m(\u001b[0m\u001b[0mself\u001b[0m\u001b[0;34m)\u001b[0m \u001b[0;34m->\u001b[0m \u001b[0mstr\u001b[0m\u001b[0;34m:\u001b[0m\u001b[0;34m\u001b[0m\u001b[0;34m\u001b[0m\u001b[0m\n",
      "\u001b[0;32m~/research_env/lib/python3.8/site-packages/torch/nn/functional.py\u001b[0m in \u001b[0;36mlinear\u001b[0;34m(input, weight, bias)\u001b[0m\n\u001b[1;32m   1845\u001b[0m     \u001b[0;32mif\u001b[0m \u001b[0mhas_torch_function_variadic\u001b[0m\u001b[0;34m(\u001b[0m\u001b[0minput\u001b[0m\u001b[0;34m,\u001b[0m \u001b[0mweight\u001b[0m\u001b[0;34m)\u001b[0m\u001b[0;34m:\u001b[0m\u001b[0;34m\u001b[0m\u001b[0;34m\u001b[0m\u001b[0m\n\u001b[1;32m   1846\u001b[0m         \u001b[0;32mreturn\u001b[0m \u001b[0mhandle_torch_function\u001b[0m\u001b[0;34m(\u001b[0m\u001b[0mlinear\u001b[0m\u001b[0;34m,\u001b[0m \u001b[0;34m(\u001b[0m\u001b[0minput\u001b[0m\u001b[0;34m,\u001b[0m \u001b[0mweight\u001b[0m\u001b[0;34m)\u001b[0m\u001b[0;34m,\u001b[0m \u001b[0minput\u001b[0m\u001b[0;34m,\u001b[0m \u001b[0mweight\u001b[0m\u001b[0;34m,\u001b[0m \u001b[0mbias\u001b[0m\u001b[0;34m=\u001b[0m\u001b[0mbias\u001b[0m\u001b[0;34m)\u001b[0m\u001b[0;34m\u001b[0m\u001b[0;34m\u001b[0m\u001b[0m\n\u001b[0;32m-> 1847\u001b[0;31m     \u001b[0;32mreturn\u001b[0m \u001b[0mtorch\u001b[0m\u001b[0;34m.\u001b[0m\u001b[0m_C\u001b[0m\u001b[0;34m.\u001b[0m\u001b[0m_nn\u001b[0m\u001b[0;34m.\u001b[0m\u001b[0mlinear\u001b[0m\u001b[0;34m(\u001b[0m\u001b[0minput\u001b[0m\u001b[0;34m,\u001b[0m \u001b[0mweight\u001b[0m\u001b[0;34m,\u001b[0m \u001b[0mbias\u001b[0m\u001b[0;34m)\u001b[0m\u001b[0;34m\u001b[0m\u001b[0;34m\u001b[0m\u001b[0m\n\u001b[0m\u001b[1;32m   1848\u001b[0m \u001b[0;34m\u001b[0m\u001b[0m\n\u001b[1;32m   1849\u001b[0m \u001b[0;34m\u001b[0m\u001b[0m\n",
      "\u001b[0;31mRuntimeError\u001b[0m: mat1 and mat2 shapes cannot be multiplied (3584x28 and 784x10)"
     ]
    }
   ],
   "source": [
    "for images, labels in train_loader:\n",
    "    print(labels)\n",
    "    print(images.shape)\n",
    "    \n",
    "    outputs = model(images)\n",
    "    print(outputs)\n",
    "    break\n",
    "    "
   ]
  },
  {
   "cell_type": "code",
   "execution_count": 22,
   "id": "a922093b",
   "metadata": {},
   "outputs": [
    {
     "data": {
      "text/plain": [
       "torch.Size([128, 1, 28, 28])"
      ]
     },
     "execution_count": 22,
     "metadata": {},
     "output_type": "execute_result"
    }
   ],
   "source": [
    "images.shape"
   ]
  },
  {
   "cell_type": "code",
   "execution_count": 23,
   "id": "164e0be3",
   "metadata": {},
   "outputs": [
    {
     "data": {
      "text/plain": [
       "torch.Size([128, 784])"
      ]
     },
     "execution_count": 23,
     "metadata": {},
     "output_type": "execute_result"
    }
   ],
   "source": [
    "images.reshape(128,784).shape"
   ]
  },
  {
   "cell_type": "code",
   "execution_count": 24,
   "id": "152061e8",
   "metadata": {},
   "outputs": [],
   "source": [
    "class MnistModel(nn.Module):\n",
    "    def __init__(self):\n",
    "        super().__init__()\n",
    "        self.linear = nn.Linear(input_size, num_classes)\n",
    "        \n",
    "    def forward(self,xb):\n",
    "        xb = xb.reshape(-1,784)\n",
    "        out = self.linear(xb)\n",
    "        return out\n",
    "    \n",
    "model = MnistModel()"
   ]
  },
  {
   "cell_type": "code",
   "execution_count": 25,
   "id": "79a8512e",
   "metadata": {},
   "outputs": [
    {
     "data": {
      "text/plain": [
       "Linear(in_features=784, out_features=10, bias=True)"
      ]
     },
     "execution_count": 25,
     "metadata": {},
     "output_type": "execute_result"
    }
   ],
   "source": [
    "model.linear"
   ]
  },
  {
   "cell_type": "code",
   "execution_count": 26,
   "id": "c7b1af38",
   "metadata": {},
   "outputs": [
    {
     "name": "stdout",
     "output_type": "stream",
     "text": [
      "torch.Size([10, 784]) torch.Size([10])\n"
     ]
    },
    {
     "data": {
      "text/plain": [
       "[Parameter containing:\n",
       " tensor([[-0.0187,  0.0305,  0.0338,  ...,  0.0003, -0.0026,  0.0050],\n",
       "         [-0.0058, -0.0084,  0.0081,  ...,  0.0158, -0.0104,  0.0130],\n",
       "         [ 0.0144, -0.0170, -0.0254,  ..., -0.0255, -0.0300, -0.0206],\n",
       "         ...,\n",
       "         [ 0.0159, -0.0259,  0.0032,  ...,  0.0338,  0.0037, -0.0268],\n",
       "         [-0.0210,  0.0329, -0.0317,  ..., -0.0254,  0.0235,  0.0188],\n",
       "         [ 0.0285, -0.0214,  0.0129,  ..., -0.0214, -0.0162, -0.0081]],\n",
       "        requires_grad=True),\n",
       " Parameter containing:\n",
       " tensor([-0.0084,  0.0089,  0.0326,  0.0295,  0.0064,  0.0168,  0.0141,  0.0188,\n",
       "          0.0251, -0.0337], requires_grad=True)]"
      ]
     },
     "execution_count": 26,
     "metadata": {},
     "output_type": "execute_result"
    }
   ],
   "source": [
    "print(model.linear.weight.shape, model.linear.bias.shape)\n",
    "list(model.parameters())"
   ]
  },
  {
   "cell_type": "code",
   "execution_count": 28,
   "id": "42cc212c",
   "metadata": {},
   "outputs": [
    {
     "name": "stdout",
     "output_type": "stream",
     "text": [
      "torch.Size([128, 1, 28, 28])\n",
      "outputs.shape torch.Size([128, 10])\n",
      "Sample outputs: \n",
      " tensor([[-0.1077,  0.0259,  0.0215,  0.1127, -0.1465, -0.2448,  0.0712, -0.0626,\n",
      "          0.2505, -0.1614],\n",
      "        [-0.1764, -0.1875,  0.3005,  0.2704, -0.1416, -0.1969,  0.1599, -0.1034,\n",
      "          0.1481, -0.3057]])\n"
     ]
    }
   ],
   "source": [
    "#applying the model\n",
    "\n",
    "for images, labels in train_loader:\n",
    "    print(images.shape)\n",
    "    outputs = model(images)\n",
    "    break\n",
    "    \n",
    "print('outputs.shape',outputs.shape)\n",
    "print('Sample outputs: \\n', outputs[:2].data)"
   ]
  },
  {
   "cell_type": "code",
   "execution_count": 31,
   "id": "767e68c8",
   "metadata": {},
   "outputs": [
    {
     "data": {
      "text/plain": [
       "torch.Size([128, 10])"
      ]
     },
     "execution_count": 31,
     "metadata": {},
     "output_type": "execute_result"
    }
   ],
   "source": [
    "outputs.shape"
   ]
  },
  {
   "cell_type": "code",
   "execution_count": 32,
   "id": "4539186a",
   "metadata": {},
   "outputs": [
    {
     "name": "stdout",
     "output_type": "stream",
     "text": [
      "Sample probabilities:\n",
      "  tensor([[0.0911, 0.1041, 0.1036, 0.1135, 0.0876, 0.0794, 0.1089, 0.0953, 0.1303,\n",
      "         0.0863],\n",
      "        [0.0839, 0.0830, 0.1352, 0.1312, 0.0869, 0.0822, 0.1175, 0.0903, 0.1161,\n",
      "         0.0737]])\n",
      "Sum:  1.0\n"
     ]
    }
   ],
   "source": [
    "import torch.nn.functional as F\n",
    "\n",
    "#applying softmax for each output row\n",
    "probs = F.softmax(outputs, dim=1) # dim=1 means apply softmax along the rows\n",
    "\n",
    "#printing sample probabilities\n",
    "print(\"Sample probabilities:\\n \", probs[:2].data)\n",
    "\n",
    "#adding up probabilities of an output row\n",
    "print(\"Sum: \", torch.sum(probs[0]).item())"
   ]
  },
  {
   "cell_type": "code",
   "execution_count": 33,
   "id": "9099afc1",
   "metadata": {},
   "outputs": [
    {
     "name": "stdout",
     "output_type": "stream",
     "text": [
      "tensor([8, 2, 3, 2, 8, 9, 2, 8, 2, 2, 6, 3, 6, 8, 2, 8, 1, 8, 8, 8, 2, 8, 8, 1,\n",
      "        0, 2, 6, 6, 2, 2, 8, 2, 3, 2, 2, 3, 7, 8, 2, 2, 8, 1, 8, 2, 8, 8, 3, 2,\n",
      "        7, 2, 2, 1, 7, 8, 8, 3, 2, 8, 3, 2, 1, 3, 8, 8, 8, 8, 2, 3, 2, 6, 1, 3,\n",
      "        2, 8, 0, 0, 8, 8, 3, 2, 7, 2, 2, 1, 8, 8, 2, 2, 8, 2, 3, 0, 7, 2, 8, 2,\n",
      "        0, 3, 2, 7, 8, 2, 2, 3, 6, 2, 2, 8, 2, 8, 2, 7, 1, 2, 5, 5, 8, 2, 2, 2,\n",
      "        3, 2, 7, 2, 2, 3, 3, 2])\n",
      "tensor([0.1303, 0.1352, 0.1169, 0.1370, 0.1348, 0.1268, 0.1643, 0.1449, 0.1556,\n",
      "        0.1363, 0.1368, 0.1318, 0.1265, 0.1309, 0.1458, 0.1167, 0.1214, 0.1199,\n",
      "        0.1567, 0.1402, 0.1544, 0.1527, 0.1427, 0.1208, 0.1284, 0.1405, 0.1263,\n",
      "        0.1177, 0.1335, 0.1904, 0.1569, 0.1423, 0.1325, 0.1533, 0.1370, 0.1165,\n",
      "        0.1230, 0.1358, 0.1367, 0.1413, 0.1443, 0.1373, 0.1305, 0.1195, 0.1675,\n",
      "        0.1632, 0.1333, 0.1465, 0.1143, 0.1288, 0.1448, 0.1295, 0.1184, 0.1248,\n",
      "        0.1749, 0.1330, 0.1501, 0.1458, 0.1419, 0.1418, 0.1254, 0.1233, 0.1478,\n",
      "        0.1378, 0.1566, 0.1611, 0.1533, 0.1358, 0.1297, 0.1301, 0.1134, 0.1287,\n",
      "        0.1558, 0.1380, 0.1251, 0.1109, 0.1378, 0.1331, 0.1274, 0.1274, 0.1173,\n",
      "        0.1384, 0.1672, 0.1315, 0.1797, 0.1544, 0.1457, 0.1198, 0.1288, 0.1299,\n",
      "        0.1196, 0.1182, 0.1151, 0.1417, 0.1352, 0.1230, 0.1289, 0.1239, 0.1167,\n",
      "        0.1128, 0.1420, 0.1253, 0.1482, 0.1183, 0.1320, 0.1329, 0.1592, 0.1320,\n",
      "        0.1244, 0.1155, 0.1476, 0.1168, 0.1209, 0.1323, 0.1153, 0.1231, 0.1285,\n",
      "        0.1409, 0.1211, 0.1465, 0.1416, 0.1478, 0.1174, 0.1749, 0.1572, 0.1473,\n",
      "        0.1342, 0.1179], grad_fn=<MaxBackward0>)\n"
     ]
    }
   ],
   "source": [
    "#choosing class with max probability\n",
    "\n",
    "max_probs, preds = torch.max(probs, dim=1)\n",
    "print(preds)\n",
    "print(max_probs)"
   ]
  },
  {
   "cell_type": "code",
   "execution_count": 35,
   "id": "a2313a09",
   "metadata": {},
   "outputs": [],
   "source": [
    "#measuring accuracy\n",
    "\n",
    "def accuracy(outputs, labels):\n",
    "    _, preds = torch.max(outputs, dim=1)\n",
    "    return torch.tensor(torch.sum(torch.eq(preds,labels)).item()/len(preds))"
   ]
  },
  {
   "cell_type": "code",
   "execution_count": 36,
   "id": "019bb6d9",
   "metadata": {},
   "outputs": [
    {
     "data": {
      "text/plain": [
       "tensor(0.1016)"
      ]
     },
     "execution_count": 36,
     "metadata": {},
     "output_type": "execute_result"
    }
   ],
   "source": [
    "accuracy (outputs,labels)"
   ]
  },
  {
   "cell_type": "code",
   "execution_count": 37,
   "id": "067428be",
   "metadata": {},
   "outputs": [
    {
     "data": {
      "text/plain": [
       "tensor([[-0.1077,  0.0259,  0.0215,  ..., -0.0626,  0.2505, -0.1614],\n",
       "        [-0.1764, -0.1875,  0.3005,  ..., -0.1034,  0.1481, -0.3057],\n",
       "        [-0.1815, -0.1534,  0.0653,  ..., -0.0198, -0.0038, -0.0147],\n",
       "        ...,\n",
       "        [ 0.0168,  0.2494,  0.0480,  ..., -0.4746,  0.2394, -0.2941],\n",
       "        [-0.0353, -0.0079,  0.1350,  ..., -0.1372, -0.0316, -0.0245],\n",
       "        [-0.1228, -0.0705,  0.0374,  ..., -0.4768,  0.0355, -0.0669]],\n",
       "       grad_fn=<AddmmBackward>)"
      ]
     },
     "execution_count": 37,
     "metadata": {},
     "output_type": "execute_result"
    }
   ],
   "source": [
    "#calculating loss\n",
    "\n",
    "outputs"
   ]
  },
  {
   "cell_type": "code",
   "execution_count": 40,
   "id": "f783893f",
   "metadata": {},
   "outputs": [
    {
     "name": "stdout",
     "output_type": "stream",
     "text": [
      "tensor(2.2976, grad_fn=<NllLossBackward>)\n"
     ]
    }
   ],
   "source": [
    "loss_fn = F.cross_entropy #crossentropy loss includes softmax so softmax calculation is not reqd\n",
    "\n",
    "loss = loss_fn(outputs,labels)\n",
    "print(loss)"
   ]
  },
  {
   "cell_type": "code",
   "execution_count": 41,
   "id": "53c286b7",
   "metadata": {},
   "outputs": [],
   "source": [
    "def fit(epochs, lr, model, train_loader, val_loader, opt_func=torch.optim.SGD):\n",
    "    optimizer = opt_func(model.parameters(), lr)\n",
    "    history = [] # for recording epoch-wise results\n",
    "    \n",
    "    for epoch in range(epochs):\n",
    "        \n",
    "        # Training Phase \n",
    "        for batch in train_loader:\n",
    "            loss = model.training_step(batch)\n",
    "            loss.backward()\n",
    "            optimizer.step()\n",
    "            optimizer.zero_grad()\n",
    "        \n",
    "        # Validation phase\n",
    "        result = evaluate(model, val_loader)\n",
    "        model.epoch_end(epoch, result)\n",
    "        history.append(result)\n",
    "\n",
    "    return history"
   ]
  },
  {
   "cell_type": "code",
   "execution_count": 42,
   "id": "d55cc4db",
   "metadata": {},
   "outputs": [],
   "source": [
    "def evaluate(model, val_loader):\n",
    "    outputs = [model.validation_step(batch) for batch in val_loader]\n",
    "    return model.validation_epoch_end(outputs)"
   ]
  },
  {
   "cell_type": "code",
   "execution_count": 50,
   "id": "6ae81da8",
   "metadata": {},
   "outputs": [],
   "source": [
    "class MnistModel(nn.Module):\n",
    "    def __init__(self):\n",
    "        super().__init__()\n",
    "        self.linear = nn.Linear(input_size, num_classes)\n",
    "        \n",
    "    def forward(self,xb):\n",
    "        xb = xb.reshape(-1,784)\n",
    "        out = self.linear(xb)\n",
    "        return out\n",
    "    \n",
    "    def training_step(self,batch):\n",
    "        images, labels = batch\n",
    "        out = self(images)\n",
    "        loss = F.cross_entropy(out,labels)\n",
    "        return loss\n",
    "    \n",
    "    def validation_step(self,batch):\n",
    "        images,labels = batch\n",
    "        out = self(images)\n",
    "        loss = F.cross_entropy(out,labels)\n",
    "        acc = accuracy (out,labels)\n",
    "        return {'val_loss': loss , 'val_acc': acc}\n",
    "    \n",
    "    def validation_epoch_end(self, outputs):\n",
    "        batch_losses = [x['val_loss'] for x in outputs]\n",
    "        epoch_loss = torch.stack(batch_losses).mean()   # Combine losses\n",
    "        batch_accs = [x['val_acc'] for x in outputs]\n",
    "        epoch_acc = torch.stack(batch_accs).mean()      # Combine accuracies\n",
    "        return {'val_loss': epoch_loss.item(), 'val_acc': epoch_acc.item()}\n",
    "    \n",
    "    def epoch_end(self, epoch, result):\n",
    "        print(\"Epoch [{}], val_loss: {:.4f}, val_acc: {:.4f}\".format(epoch, result['val_loss'], result['val_acc']))\n",
    "    \n",
    "model = MnistModel()"
   ]
  },
  {
   "cell_type": "code",
   "execution_count": 51,
   "id": "6b7a1616",
   "metadata": {},
   "outputs": [
    {
     "data": {
      "text/plain": [
       "{'val_loss': 2.277308702468872, 'val_acc': 0.12114319950342178}"
      ]
     },
     "execution_count": 51,
     "metadata": {},
     "output_type": "execute_result"
    }
   ],
   "source": [
    "result0 = evaluate(model, val_loader)\n",
    "result0"
   ]
  },
  {
   "cell_type": "code",
   "execution_count": 52,
   "id": "fb103af8",
   "metadata": {},
   "outputs": [
    {
     "name": "stdout",
     "output_type": "stream",
     "text": [
      "Epoch [0], val_loss: 1.9164, val_acc: 0.6583\n",
      "Epoch [1], val_loss: 1.6497, val_acc: 0.7660\n",
      "Epoch [2], val_loss: 1.4510, val_acc: 0.7904\n",
      "Epoch [3], val_loss: 1.3012, val_acc: 0.8045\n",
      "Epoch [4], val_loss: 1.1861, val_acc: 0.8153\n",
      "Epoch [5], val_loss: 1.0955, val_acc: 0.8221\n",
      "Epoch [6], val_loss: 1.0230, val_acc: 0.8282\n",
      "Epoch [7], val_loss: 0.9635, val_acc: 0.8334\n",
      "Epoch [8], val_loss: 0.9140, val_acc: 0.8374\n",
      "Epoch [9], val_loss: 0.8722, val_acc: 0.8400\n",
      "Epoch [10], val_loss: 0.8363, val_acc: 0.8424\n",
      "Epoch [11], val_loss: 0.8053, val_acc: 0.8447\n",
      "Epoch [12], val_loss: 0.7781, val_acc: 0.8466\n",
      "Epoch [13], val_loss: 0.7542, val_acc: 0.8485\n",
      "Epoch [14], val_loss: 0.7328, val_acc: 0.8510\n",
      "Epoch [15], val_loss: 0.7137, val_acc: 0.8528\n",
      "Epoch [16], val_loss: 0.6964, val_acc: 0.8550\n",
      "Epoch [17], val_loss: 0.6807, val_acc: 0.8564\n",
      "Epoch [18], val_loss: 0.6664, val_acc: 0.8578\n",
      "Epoch [19], val_loss: 0.6533, val_acc: 0.8587\n",
      "Epoch [20], val_loss: 0.6413, val_acc: 0.8598\n",
      "Epoch [21], val_loss: 0.6301, val_acc: 0.8615\n",
      "Epoch [22], val_loss: 0.6198, val_acc: 0.8619\n",
      "Epoch [23], val_loss: 0.6102, val_acc: 0.8625\n",
      "Epoch [24], val_loss: 0.6013, val_acc: 0.8635\n",
      "Epoch [25], val_loss: 0.5929, val_acc: 0.8651\n",
      "Epoch [26], val_loss: 0.5850, val_acc: 0.8659\n",
      "Epoch [27], val_loss: 0.5777, val_acc: 0.8665\n",
      "Epoch [28], val_loss: 0.5707, val_acc: 0.8670\n",
      "Epoch [29], val_loss: 0.5642, val_acc: 0.8676\n",
      "Epoch [30], val_loss: 0.5580, val_acc: 0.8682\n",
      "Epoch [31], val_loss: 0.5521, val_acc: 0.8686\n",
      "Epoch [32], val_loss: 0.5465, val_acc: 0.8693\n",
      "Epoch [33], val_loss: 0.5412, val_acc: 0.8701\n",
      "Epoch [34], val_loss: 0.5362, val_acc: 0.8704\n",
      "Epoch [35], val_loss: 0.5314, val_acc: 0.8709\n",
      "Epoch [36], val_loss: 0.5268, val_acc: 0.8711\n",
      "Epoch [37], val_loss: 0.5224, val_acc: 0.8718\n",
      "Epoch [38], val_loss: 0.5182, val_acc: 0.8718\n",
      "Epoch [39], val_loss: 0.5142, val_acc: 0.8721\n"
     ]
    },
    {
     "data": {
      "image/png": "[encoded data removed]",
      "text/plain": [
       "<Figure size 432x288 with 1 Axes>"
      ]
     },
     "metadata": {
      "needs_background": "light"
     },
     "output_type": "display_data"
    }
   ],
   "source": [
    "history = fit(40, 0.001, model, train_loader, val_loader)\n",
    "accuracies = [result['val_acc'] for result in history]\n",
    "plt.plot(accuracies, '-x')\n",
    "plt.xlabel('epoch')\n",
    "plt.ylabel('accuracy')\n",
    "plt.title('Accuracy vs. No. of epochs');"
   ]
  },
  {
   "cell_type": "code",
   "execution_count": null,
   "id": "b2fc3a07",
   "metadata": {},
   "outputs": [],
   "source": []
  }
 ],
 "metadata": {
  "kernelspec": {
   "display_name": "Python 3 (ipykernel)",
   "language": "python",
   "name": "python3"
  },
  "language_info": {
   "codemirror_mode": {
    "name": "ipython",
    "version": 3
   },
   "file_extension": ".py",
   "mimetype": "text/x-python",
   "name": "python",
   "nbconvert_exporter": "python",
   "pygments_lexer": "ipython3",
   "version": "3.8.2"
  }
 },
 "nbformat": 4,
 "nbformat_minor": 5
}
