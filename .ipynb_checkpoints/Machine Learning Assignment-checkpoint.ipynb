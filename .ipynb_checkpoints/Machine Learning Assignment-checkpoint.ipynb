{
 "cells": [
  {
   "cell_type": "code",
   "execution_count": 121,
   "id": "6b7e2852",
   "metadata": {},
   "outputs": [],
   "source": [
    "import numpy as np\n",
    "import matplotlib.pyplot as plt"
   ]
  },
  {
   "cell_type": "code",
   "execution_count": 122,
   "id": "30636a65",
   "metadata": {},
   "outputs": [],
   "source": [
    "data = np.loadtxt('data.txt')\n",
    "X = np.array(data[:, 1:16])\n",
    "y = np.array(data[:, 16], ndmin=2).T\n",
    "# X, y"
   ]
  },
  {
   "cell_type": "code",
   "execution_count": 123,
   "id": "2d7145d4",
   "metadata": {},
   "outputs": [
    {
     "data": {
      "text/plain": [
       "15"
      ]
     },
     "execution_count": 123,
     "metadata": {},
     "output_type": "execute_result"
    }
   ],
   "source": [
    "# The number of features.\n",
    "n = X.shape[1]\n",
    "n"
   ]
  },
  {
   "cell_type": "code",
   "execution_count": 124,
   "id": "78117410",
   "metadata": {},
   "outputs": [],
   "source": [
    "#Normalization \n",
    "for i in range(n):\n",
    "    X[:, i] = ( X[:, i]-np.min(X[:, i]) ) / ( np.max(X[:, i])-np.min(X[:, i]) )\n",
    "y = ( y-np.min(y) ) / ( np.max(y)-np.min(y) )"
   ]
  },
  {
   "cell_type": "code",
   "execution_count": 125,
   "id": "aaa3ad41",
   "metadata": {},
   "outputs": [],
   "source": [
    "# splitting data into train and test\n",
    "train_X = X[0:48, :]\n",
    "test_X = X[48:60, :]\n",
    "train_y = y[0:48]\n",
    "test_y = y[48:60]"
   ]
  },
  {
   "cell_type": "code",
   "execution_count": 126,
   "id": "42f2c61e",
   "metadata": {},
   "outputs": [
    {
     "data": {
      "text/plain": [
       "48"
      ]
     },
     "execution_count": 126,
     "metadata": {},
     "output_type": "execute_result"
    }
   ],
   "source": [
    "# The number of examples in the training set.\n",
    "m = train_X.shape[0]\n",
    "m"
   ]
  },
  {
   "cell_type": "code",
   "execution_count": 127,
   "id": "7aa8c860",
   "metadata": {},
   "outputs": [],
   "source": [
    "# Add 1s into the feature matrix.\n",
    "train_X = np.concatenate( (np.ones((m,1)), train_X), axis=1 )"
   ]
  },
  {
   "cell_type": "code",
   "execution_count": 128,
   "id": "d256c2ed",
   "metadata": {},
   "outputs": [
    {
     "data": {
      "text/plain": [
       "(48, 16)"
      ]
     },
     "execution_count": 128,
     "metadata": {},
     "output_type": "execute_result"
    }
   ],
   "source": [
    "train_X.shape"
   ]
  },
  {
   "cell_type": "code",
   "execution_count": 129,
   "id": "043c3d40",
   "metadata": {},
   "outputs": [],
   "source": [
    "para = np.zeros((n+1,1))  #parameters\n",
    "lr = 0.01  #learning rate\n",
    "ep = 0.001   \n",
    "la = 5  #lambda    "
   ]
  },
  {
   "cell_type": "code",
   "execution_count": 130,
   "id": "df180b65",
   "metadata": {},
   "outputs": [],
   "source": [
    "def loss(X, y, para, la):\n",
    "    part = y-np.dot(X, para)\n",
    "    cost = 1/(2*m)*np.dot(part.T, part) + la/(2*m)*np.dot(para.T, para)\n",
    "    return cost.item()"
   ]
  },
  {
   "cell_type": "code",
   "execution_count": 131,
   "id": "06e1036d",
   "metadata": {},
   "outputs": [],
   "source": [
    "# The gradient algorithm.\n",
    "def gradientDescent(X, y, lr, ep, la):\n",
    "    m = X.shape[0]\n",
    "    n = X.shape[1]\n",
    "    para = np.zeros((n,1))\n",
    "    new_para = np.zeros((n,1))\n",
    "    costHistory = []\n",
    "    costHistory.append(loss(X, y, para, la))\n",
    "    k = 0\n",
    "    while True:\n",
    "        h = (np.dot(X, para)-y).T # compute the predictions of all training␣\n",
    "        for j in range(n):\n",
    "            grad = 1/m*np.dot(h, X[:, j]) + la/m*para[j]\n",
    "            new_para[j] = para[j] - lr*grad # note here I store the new\n",
    "            para = new_para\n",
    "            costHistory.append(loss(X, y, para, la))\n",
    "            k = k+1\n",
    "        # convergence critrion\n",
    "        if abs(costHistory[k-1]-costHistory[k])*100/costHistory[k-1] < ep:\n",
    "            break\n",
    "    return costHistory, para"
   ]
  },
  {
   "cell_type": "code",
   "execution_count": 132,
   "id": "3f9bbfee",
   "metadata": {},
   "outputs": [
    {
     "data": {
      "text/plain": [
       "array([[0.12053163],\n",
       "       [0.08091373],\n",
       "       [0.03613157],\n",
       "       [0.07264008],\n",
       "       [0.05285497],\n",
       "       [0.08417258],\n",
       "       [0.04446685],\n",
       "       [0.05269219],\n",
       "       [0.04510808],\n",
       "       [0.0631875 ],\n",
       "       [0.04560577],\n",
       "       [0.05472087],\n",
       "       [0.00254847],\n",
       "       [0.00639765],\n",
       "       [0.04382847],\n",
       "       [0.06752235]])"
      ]
     },
     "execution_count": 132,
     "metadata": {},
     "output_type": "execute_result"
    }
   ],
   "source": [
    "cost, para = gradientDescent(train_X, train_y, lr, ep, la)\n",
    "para"
   ]
  },
  {
   "cell_type": "code",
   "execution_count": 133,
   "id": "bca7f01a",
   "metadata": {},
   "outputs": [
    {
     "data": {
      "text/plain": [
       "(16, 1)"
      ]
     },
     "execution_count": 133,
     "metadata": {},
     "output_type": "execute_result"
    }
   ],
   "source": [
    "para.shape"
   ]
  },
  {
   "cell_type": "code",
   "execution_count": 134,
   "id": "b0f6f097",
   "metadata": {},
   "outputs": [
    {
     "data": {
      "image/png": "[encoded data removed]",
      "text/plain": [
       "<Figure size 432x288 with 1 Axes>"
      ]
     },
     "metadata": {
      "needs_background": "light"
     },
     "output_type": "display_data"
    }
   ],
   "source": [
    "# Finally print out the cost of each iteration\n",
    "plt.plot(cost)\n",
    "plt.ylabel('cost')\n",
    "plt.show()"
   ]
  },
  {
   "cell_type": "code",
   "execution_count": null,
   "id": "32cd7db7",
   "metadata": {},
   "outputs": [],
   "source": []
  },
  {
   "cell_type": "code",
   "execution_count": null,
   "id": "ca1a5a44",
   "metadata": {},
   "outputs": [],
   "source": []
  },
  {
   "cell_type": "code",
   "execution_count": 135,
   "id": "6d5a2bae",
   "metadata": {},
   "outputs": [],
   "source": [
    "#Laso \n",
    "def laso_loss(X, y, para, la):\n",
    "    part = y-np.dot(X, para)\n",
    "    cost = 1/(2*m)*np.dot(part.T, part) + la/(2*m)*abs(para)\n",
    "    return cost.item()"
   ]
  },
  {
   "cell_type": "code",
   "execution_count": 140,
   "id": "640788c5",
   "metadata": {},
   "outputs": [],
   "source": [
    "# The gradient algorithm.\n",
    "def gradientDescentLaso(X, y, lr, ep, la):\n",
    "    m = X.shape[0]\n",
    "    n = X.shape[1]\n",
    "    para = np.zeros((n,1))\n",
    "    new_para = np.zeros((n,1))\n",
    "    costHistory = []\n",
    "    costHistory.append(loss(X, y, para, la))\n",
    "    k = 0\n",
    "    while True:\n",
    "        h = (np.dot(X, para)-y).T # compute the predictions of all training␣\n",
    "        for j in range(n):\n",
    "            \n",
    "            if para[j]>=0:\n",
    "                grad = 1/(2*m)*np.dot(h, X[:, j]) + la/(2*m)\n",
    "            else:\n",
    "                grad = 1/(2*m)*np.dot(h, X[:, j]) - la/(2*m)\n",
    "            new_para[j] = para[j] - lr*grad # note here I store the new\n",
    "            para = new_para\n",
    "            costHistory.append(laso_loss(X, y, para, la))\n",
    "            k = k+1\n",
    "        # convergence critrion\n",
    "        if abs(costHistory[k-1]-costHistory[k])*100/costHistory[k-1] < ep:\n",
    "            break\n",
    "    return costHistory, para"
   ]
  },
  {
   "cell_type": "code",
   "execution_count": 141,
   "id": "d5c1abc0",
   "metadata": {},
   "outputs": [
    {
     "data": {
      "text/plain": [
       "array([[0.12053163],\n",
       "       [0.08091373],\n",
       "       [0.03613157],\n",
       "       [0.07264008],\n",
       "       [0.05285497],\n",
       "       [0.08417258],\n",
       "       [0.04446685],\n",
       "       [0.05269219],\n",
       "       [0.04510808],\n",
       "       [0.0631875 ],\n",
       "       [0.04560577],\n",
       "       [0.05472087],\n",
       "       [0.00254847],\n",
       "       [0.00639765],\n",
       "       [0.04382847],\n",
       "       [0.06752235]])"
      ]
     },
     "execution_count": 141,
     "metadata": {},
     "output_type": "execute_result"
    }
   ],
   "source": [
    "cost_laso, para_laso = gradientDescent(train_X, train_y, lr, ep, la)\n",
    "para_laso"
   ]
  },
  {
   "cell_type": "code",
   "execution_count": 142,
   "id": "314079a8",
   "metadata": {},
   "outputs": [
    {
     "data": {
      "image/png": "[encoded data removed]",
      "text/plain": [
       "<Figure size 432x288 with 1 Axes>"
      ]
     },
     "metadata": {
      "needs_background": "light"
     },
     "output_type": "display_data"
    }
   ],
   "source": [
    "# Finally print out the cost of each iteration\n",
    "plt.plot(cost_laso)\n",
    "plt.ylabel('cost')\n",
    "plt.show()"
   ]
  },
  {
   "cell_type": "code",
   "execution_count": 144,
   "id": "554355e5",
   "metadata": {},
   "outputs": [
    {
     "data": {
      "text/plain": [
       "array([[0.],\n",
       "       [0.],\n",
       "       [0.],\n",
       "       [0.],\n",
       "       [0.],\n",
       "       [0.],\n",
       "       [0.],\n",
       "       [0.],\n",
       "       [0.],\n",
       "       [0.],\n",
       "       [0.],\n",
       "       [0.],\n",
       "       [0.],\n",
       "       [0.],\n",
       "       [0.],\n",
       "       [0.]])"
      ]
     },
     "execution_count": 144,
     "metadata": {},
     "output_type": "execute_result"
    }
   ],
   "source": [
    "np.subtract(para,para_laso)"
   ]
  },
  {
   "cell_type": "code",
   "execution_count": null,
   "id": "54cd4658",
   "metadata": {},
   "outputs": [],
   "source": []
  }
 ],
 "metadata": {
  "kernelspec": {
   "display_name": "Python 3 (ipykernel)",
   "language": "python",
   "name": "python3"
  },
  "language_info": {
   "codemirror_mode": {
    "name": "ipython",
    "version": 3
   },
   "file_extension": ".py",
   "mimetype": "text/x-python",
   "name": "python",
   "nbconvert_exporter": "python",
   "pygments_lexer": "ipython3",
   "version": "3.8.2"
  }
 },
 "nbformat": 4,
 "nbformat_minor": 5
}
